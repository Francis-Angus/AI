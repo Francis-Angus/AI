{
  "nbformat": 4,
  "nbformat_minor": 0,
  "metadata": {
    "colab": {
      "name": "Untitled3.ipynb",
      "provenance": []
    },
    "kernelspec": {
      "name": "python3",
      "display_name": "Python 3"
    },
    "accelerator": "GPU"
  },
  "cells": [
    {
      "cell_type": "code",
      "metadata": {
        "id": "CX9OzsCOHf1s",
        "colab_type": "code",
        "colab": {
          "base_uri": "https://localhost:8080/",
          "height": 1000
        },
        "outputId": "414744a5-d293-4a24-e51e-0d3e7ad9abba"
      },
      "source": [
        "from keras.datasets import cifar10\n",
        "\n",
        "(x_train, y_train_), (x_test, y_test_) = cifar10.load_data()\n",
        "\n",
        "x_train = x_train.astype('float32') / 255\n",
        "x_test = x_test.astype('float32') / 255\n",
        "\n",
        "from keras.utils import to_categorical\n",
        "y_train = to_categorical(y_train_)\n",
        "y_test = to_categorical(y_test_)\n",
        "\n",
        "\"\"\"## Model Definition\"\"\"\n",
        "\n",
        "from keras.models import Sequential\n",
        "model = Sequential()\n",
        "\n",
        "from keras.layers import Conv2D, MaxPool2D, Flatten, Dense\n",
        "\n",
        "model.add(Conv2D(filters=32, \n",
        "                kernel_size=(3, 3),\n",
        "                activation='relu',\n",
        "                input_shape=(32, 32, 3)))\n",
        "\n",
        "model.add(MaxPool2D())\n",
        "\n",
        "model.add(Conv2D(filters=64,\n",
        "                kernel_size=(3, 3),\n",
        "                activation='relu'))\n",
        "model.add(MaxPool2D())\n",
        "\n",
        "model.add(Flatten())\n",
        "model.add(Dense(10, activation='softmax'))\n",
        "\n",
        "model.compile(optimizer='adam',\n",
        "             loss='categorical_crossentropy',\n",
        "             metrics=['accuracy'])\n",
        "\n",
        "print(model.summary())\n",
        "\n",
        "\"\"\"## Fitting\"\"\"\n",
        "\n",
        "history = model.fit(x_train, y_train, batch_size=50, epochs=15, verbose=1, validation_data=(x_test, y_test))\n",
        "\n",
        "import matplotlib.pyplot as plt\n",
        "\n",
        "history_dict = history.history\n",
        "loss_values = history_dict['loss']\n",
        "val_loss_values = history_dict['val_loss']\n",
        "\n",
        "epochs = range(1, len(history_dict['accuracy']) + 1)\n",
        "\n",
        "plt.plot(epochs, loss_values, 'bo', label='Training loss')\n",
        "plt.plot(epochs, val_loss_values, 'b', label='Validation loss')\n",
        "plt.title('Training and validation loss')\n",
        "plt.xlabel('Epochs')\n",
        "plt.ylabel('Loss')\n",
        "plt.legend()\n",
        "\n",
        "plt.show()"
      ],
      "execution_count": 1,
      "outputs": [
        {
          "output_type": "stream",
          "text": [
            "Using TensorFlow backend.\n"
          ],
          "name": "stderr"
        },
        {
          "output_type": "stream",
          "text": [
            "Downloading data from https://www.cs.toronto.edu/~kriz/cifar-10-python.tar.gz\n",
            "170500096/170498071 [==============================] - 3s 0us/step\n",
            "Model: \"sequential_1\"\n",
            "_________________________________________________________________\n",
            "Layer (type)                 Output Shape              Param #   \n",
            "=================================================================\n",
            "conv2d_1 (Conv2D)            (None, 30, 30, 32)        896       \n",
            "_________________________________________________________________\n",
            "max_pooling2d_1 (MaxPooling2 (None, 15, 15, 32)        0         \n",
            "_________________________________________________________________\n",
            "conv2d_2 (Conv2D)            (None, 13, 13, 64)        18496     \n",
            "_________________________________________________________________\n",
            "max_pooling2d_2 (MaxPooling2 (None, 6, 6, 64)          0         \n",
            "_________________________________________________________________\n",
            "flatten_1 (Flatten)          (None, 2304)              0         \n",
            "_________________________________________________________________\n",
            "dense_1 (Dense)              (None, 10)                23050     \n",
            "=================================================================\n",
            "Total params: 42,442\n",
            "Trainable params: 42,442\n",
            "Non-trainable params: 0\n",
            "_________________________________________________________________\n",
            "None\n",
            "Train on 50000 samples, validate on 10000 samples\n",
            "Epoch 1/15\n",
            "50000/50000 [==============================] - 12s 244us/step - loss: 1.5309 - accuracy: 0.4531 - val_loss: 1.2794 - val_accuracy: 0.5522\n",
            "Epoch 2/15\n",
            "50000/50000 [==============================] - 6s 121us/step - loss: 1.1773 - accuracy: 0.5900 - val_loss: 1.0925 - val_accuracy: 0.6188\n",
            "Epoch 3/15\n",
            "50000/50000 [==============================] - 6s 127us/step - loss: 1.0450 - accuracy: 0.6385 - val_loss: 1.0212 - val_accuracy: 0.6460\n",
            "Epoch 4/15\n",
            "50000/50000 [==============================] - 6s 120us/step - loss: 0.9646 - accuracy: 0.6691 - val_loss: 0.9845 - val_accuracy: 0.6580\n",
            "Epoch 5/15\n",
            "50000/50000 [==============================] - 6s 119us/step - loss: 0.9066 - accuracy: 0.6871 - val_loss: 0.9702 - val_accuracy: 0.6666\n",
            "Epoch 6/15\n",
            "50000/50000 [==============================] - 6s 119us/step - loss: 0.8595 - accuracy: 0.7047 - val_loss: 0.9370 - val_accuracy: 0.6839\n",
            "Epoch 7/15\n",
            "50000/50000 [==============================] - 6s 120us/step - loss: 0.8165 - accuracy: 0.7213 - val_loss: 0.8930 - val_accuracy: 0.6969\n",
            "Epoch 8/15\n",
            "50000/50000 [==============================] - 6s 118us/step - loss: 0.7827 - accuracy: 0.7303 - val_loss: 0.9049 - val_accuracy: 0.6928\n",
            "Epoch 9/15\n",
            "50000/50000 [==============================] - 6s 120us/step - loss: 0.7525 - accuracy: 0.7406 - val_loss: 0.8984 - val_accuracy: 0.6942\n",
            "Epoch 10/15\n",
            "50000/50000 [==============================] - 6s 119us/step - loss: 0.7223 - accuracy: 0.7526 - val_loss: 0.8925 - val_accuracy: 0.6997\n",
            "Epoch 11/15\n",
            "50000/50000 [==============================] - 6s 120us/step - loss: 0.6986 - accuracy: 0.7580 - val_loss: 0.8829 - val_accuracy: 0.7026\n",
            "Epoch 12/15\n",
            "50000/50000 [==============================] - 6s 119us/step - loss: 0.6766 - accuracy: 0.7679 - val_loss: 0.8876 - val_accuracy: 0.7068\n",
            "Epoch 13/15\n",
            "50000/50000 [==============================] - 6s 119us/step - loss: 0.6566 - accuracy: 0.7742 - val_loss: 0.9113 - val_accuracy: 0.7035\n",
            "Epoch 14/15\n",
            "50000/50000 [==============================] - 6s 119us/step - loss: 0.6367 - accuracy: 0.7820 - val_loss: 0.8852 - val_accuracy: 0.7095\n",
            "Epoch 15/15\n",
            "50000/50000 [==============================] - 6s 118us/step - loss: 0.6219 - accuracy: 0.7848 - val_loss: 0.9127 - val_accuracy: 0.7007\n"
          ],
          "name": "stdout"
        },
        {
          "output_type": "display_data",
          "data": {
            "image/png": "[encoded data removed]",
            "text/plain": [
              "<Figure size 432x288 with 1 Axes>"
            ]
          },
          "metadata": {
            "tags": [],
            "needs_background": "light"
          }
        }
      ]
    }
  ]
}
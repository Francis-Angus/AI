{
  "nbformat": 4,
  "nbformat_minor": 0,
  "metadata": {
    "colab": {
      "name": "3_Keras_Tutorial_2.ipynb",
      "provenance": [],
      "collapsed_sections": []
    },
    "kernelspec": {
      "name": "python3",
      "display_name": "Python 3"
    }
  },
  "cells": [
    {
      "cell_type": "code",
      "metadata": {
        "id": "kum65mJMiBFa",
        "colab_type": "code",
        "colab": {
          "base_uri": "https://localhost:8080/",
          "height": 493
        },
        "outputId": "cb1da56f-5818-4573-fe76-6186ed42f4a5"
      },
      "source": [
        "import keras\n",
        "from keras.models import Sequential\n",
        "from keras.layers import Dense, Dropout, Activation\n",
        "from keras.optimizers import SGD\n",
        "\n",
        "# Generate dummy data\n",
        "import numpy as np\n",
        "x_train = np.random.random((1000, 10))\n",
        "y_train = keras.utils.to_categorical(np.random.randint(10, size=(1000, 1)), num_classes=10)\n",
        "x_test = np.random.random((100, 10))\n",
        "y_test = keras.utils.to_categorical(np.random.randint(10, size=(100, 1)), num_classes=10)\n",
        "\n",
        "model = Sequential()\n",
        "model.add(Dense(64, activation='relu', input_dim=10))\n",
        "model.add(Dense(64, activation='relu'))\n",
        "model.add(Dense(10, activation='softmax'))\n",
        "sgd = SGD(lr=0.01, decay=1e-6, momentum=0.9, nesterov=True)\n",
        "model.compile(loss='categorical_crossentropy', optimizer=sgd, metrics=['accuracy'])\n",
        "\n",
        "model.fit(x_train, y_train, epochs=20, batch_size=128)\n",
        "score = model.evaluate(x_test, y_test, batch_size=128)\n",
        "print(score)"
      ],
      "execution_count": 2,
      "outputs": [
        {
          "output_type": "stream",
          "text": [
            "Using TensorFlow backend.\n"
          ],
          "name": "stderr"
        },
        {
          "output_type": "stream",
          "text": [
            "(1000, 10)\n",
            "[0.44586466 0.66287462 0.81861594 0.65501619 0.18735518 0.60061335\n",
            " 0.11633769 0.16614709 0.32389982 0.31832334]\n",
            "(1000, 1)\n",
            "[1]\n",
            "Epoch 1/10\n",
            "1000/1000 [==============================] - 0s 295us/step - loss: 0.6972 - accuracy: 0.4950\n",
            "Epoch 2/10\n",
            "1000/1000 [==============================] - 0s 35us/step - loss: 0.6950 - accuracy: 0.5050\n",
            "Epoch 3/10\n",
            "1000/1000 [==============================] - 0s 34us/step - loss: 0.6939 - accuracy: 0.5140\n",
            "Epoch 4/10\n",
            "1000/1000 [==============================] - 0s 33us/step - loss: 0.6930 - accuracy: 0.5210\n",
            "Epoch 5/10\n",
            "1000/1000 [==============================] - 0s 33us/step - loss: 0.6923 - accuracy: 0.5280\n",
            "Epoch 6/10\n",
            "1000/1000 [==============================] - 0s 34us/step - loss: 0.6915 - accuracy: 0.5240\n",
            "Epoch 7/10\n",
            "1000/1000 [==============================] - 0s 34us/step - loss: 0.6912 - accuracy: 0.5320\n",
            "Epoch 8/10\n",
            "1000/1000 [==============================] - 0s 35us/step - loss: 0.6905 - accuracy: 0.5430\n",
            "Epoch 9/10\n",
            "1000/1000 [==============================] - 0s 33us/step - loss: 0.6903 - accuracy: 0.5370\n",
            "Epoch 10/10\n",
            "1000/1000 [==============================] - 0s 35us/step - loss: 0.6895 - accuracy: 0.5290\n",
            "1000/1000 [==============================] - 0s 35us/step\n",
            "0.5659999847412109\n"
          ],
          "name": "stdout"
        }
      ]
    }
  ]
}
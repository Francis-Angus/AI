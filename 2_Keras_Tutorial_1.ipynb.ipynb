{
  "nbformat": 4,
  "nbformat_minor": 0,
  "metadata": {
    "colab": {
      "name": "Gradient Descent.ipynb",
      "provenance": [],
      "collapsed_sections": []
    },
    "kernelspec": {
      "name": "python3",
      "display_name": "Python 3"
    }
  },
  "cells": [
    {
      "cell_type": "code",
      "metadata": {
        "id": "kum65mJMiBFa",
        "colab_type": "code",
        "colab": {
          "base_uri": "https://localhost:8080/",
          "height": 493
        },
        "outputId": "cb1da56f-5818-4573-fe76-6186ed42f4a5"
      },
      "source": [
        "import keras\n",
        "from keras.models import Sequential\n",
        "from keras.layers import Dense\n",
        "\n",
        "import numpy as np\n",
        "data = np.random.random((1000, 10)) #隨機產生1000筆資料，每筆資料1包含十個float數字\n",
        "labels = np.random.randint(2, size=(1000, 1)) #隨機產生1000筆資料，每筆資料上限為2(意思就是0 或 1)\n",
        "print(np.shape(data))\n",
        "print(data[0])\n",
        "print(np.shape(labels))\n",
        "print(labels[0])\n",
        "\n",
        "model = Sequential()\n",
        "model.add(Dense(32, activation='relu', input_dim=10))\n",
        "model.add(Dense(1, activation='sigmoid'))\n",
        "model.compile(optimizer='rmsprop', loss='binary_crossentropy', metrics=['accuracy'])\n",
        "\n",
        "model.fit(data, labels, epochs=10, batch_size=32)\n",
        "\n",
        "score=model.evaluate(data, labels)\n",
        "print(score[1])"
      ],
      "execution_count": 2,
      "outputs": [
        {
          "output_type": "stream",
          "text": [
            "Using TensorFlow backend.\n"
          ],
          "name": "stderr"
        },
        {
          "output_type": "stream",
          "text": [
            "(1000, 10)\n",
            "[0.44586466 0.66287462 0.81861594 0.65501619 0.18735518 0.60061335\n",
            " 0.11633769 0.16614709 0.32389982 0.31832334]\n",
            "(1000, 1)\n",
            "[1]\n",
            "Epoch 1/10\n",
            "1000/1000 [==============================] - 0s 295us/step - loss: 0.6972 - accuracy: 0.4950\n",
            "Epoch 2/10\n",
            "1000/1000 [==============================] - 0s 35us/step - loss: 0.6950 - accuracy: 0.5050\n",
            "Epoch 3/10\n",
            "1000/1000 [==============================] - 0s 34us/step - loss: 0.6939 - accuracy: 0.5140\n",
            "Epoch 4/10\n",
            "1000/1000 [==============================] - 0s 33us/step - loss: 0.6930 - accuracy: 0.5210\n",
            "Epoch 5/10\n",
            "1000/1000 [==============================] - 0s 33us/step - loss: 0.6923 - accuracy: 0.5280\n",
            "Epoch 6/10\n",
            "1000/1000 [==============================] - 0s 34us/step - loss: 0.6915 - accuracy: 0.5240\n",
            "Epoch 7/10\n",
            "1000/1000 [==============================] - 0s 34us/step - loss: 0.6912 - accuracy: 0.5320\n",
            "Epoch 8/10\n",
            "1000/1000 [==============================] - 0s 35us/step - loss: 0.6905 - accuracy: 0.5430\n",
            "Epoch 9/10\n",
            "1000/1000 [==============================] - 0s 33us/step - loss: 0.6903 - accuracy: 0.5370\n",
            "Epoch 10/10\n",
            "1000/1000 [==============================] - 0s 35us/step - loss: 0.6895 - accuracy: 0.5290\n",
            "1000/1000 [==============================] - 0s 35us/step\n",
            "0.5659999847412109\n"
          ],
          "name": "stdout"
        }
      ]
    }
  ]
}